{
 "cells": [
  {
   "cell_type": "markdown",
   "metadata": {},
   "source": [
    "# SUBJECT ,VERB AND OBJECT EXTRACTION"
   ]
  },
  {
   "cell_type": "code",
   "execution_count": 19,
   "metadata": {},
   "outputs": [
    {
     "name": "stderr",
     "output_type": "stream",
     "text": [
      "UsageError: Line magic function `%%time` not found.\n"
     ]
    }
   ],
   "source": [
    "\n",
    "\n",
    "%%time\n",
    "import nltk\n",
    "import numpy as np\n",
    "import pandas as pd # USE OF PANDAS FOR MANUPILATION AND CONSTRUCTION OF DATAFRAME\n",
    "import spacy\n",
    "from spacy.gold import GoldParse # USE OF SPACY \n",
    "nlp = spacy.load('en_core_web_sm')"
   ]
  },
  {
   "cell_type": "code",
   "execution_count": 36,
   "metadata": {},
   "outputs": [
    {
     "name": "stdout",
     "output_type": "stream",
     "text": [
      "D:\\Ria\\Internship\\Internshala\\Dowell\n"
     ]
    }
   ],
   "source": [
    "%cd \"D:\\Ria\\Internship\\Internshala\\Dowell\""
   ]
  },
  {
   "cell_type": "code",
   "execution_count": 37,
   "metadata": {},
   "outputs": [],
   "source": [
    "data=pd.read_excel(\"SEARCH_STRING_GOOGLE_AUTOCOMPLETE.xlsx\")"
   ]
  },
  {
   "cell_type": "code",
   "execution_count": 88,
   "metadata": {},
   "outputs": [
    {
     "name": "stdout",
     "output_type": "stream",
     "text": [
      "Wall time: 0 ns\n"
     ]
    }
   ],
   "source": [
    "# function to extract subject ,verb and object\n",
    "%%time\n",
    "def subject_verb_object_pos(x):\n",
    "\n",
    "    doc=nlp(x)\n",
    "    clausal_subject = \"\"\n",
    "    nominal_subject = \"\"\n",
    "    indirect_object = \"\"\n",
    "    Object          = \"\"\n",
    "    preposition_Object=\"\"\n",
    "    verb=\"\"\n",
    "    subject=\"\"\n",
    "    \n",
    "    for word  in doc:\n",
    "       \n",
    "        \n",
    "        if word.dep_ in [\"nsubj\",\"ROOT\"]:\n",
    "            subject=word.text\n",
    " \n",
    "        elif word.dep_== \"csubj\":\n",
    "                clausal_subject=word.text\n",
    "        elif word.dep_  == \"iobj\":\n",
    "                indirect_object=word.text\n",
    "        elif word.dep_  == \"dobj\":\n",
    "                Object=word.text\n",
    "        elif word.dep_ == \"pobj\":\n",
    "                preposition_Object=word.text\n",
    "        elif word.pos_=='VERB':\n",
    "                verb=word.text\n",
    "    return {'subject':subject,'clausal_subject':clausal_subject,'verb':verb,'indirect_object':indirect_object,'direct_object':Object,'p_object':preposition_Object}\n",
    "     \n",
    "                \n",
    "        \n",
    " "
   ]
  },
  {
   "cell_type": "code",
   "execution_count": 89,
   "metadata": {},
   "outputs": [
    {
     "name": "stdout",
     "output_type": "stream",
     "text": [
      "Wall time: 2.15 s\n"
     ]
    }
   ],
   "source": [
    "%%time\n",
    "pos_tag=[]\n",
    "search_string=[]\n",
    "for i in data[\"SEARCH STRING \"].astype('str'):\n",
    "        pos_tag.append(subject_verb_object_pos(i))\n",
    "        search_string.append(i)"
   ]
  },
  {
   "cell_type": "code",
   "execution_count": 90,
   "metadata": {},
   "outputs": [],
   "source": [
    "searchstring=pd.DataFrame(search_string)\n",
    "pos_tag=pd.DataFrame(pos_tag)"
   ]
  },
  {
   "cell_type": "code",
   "execution_count": 92,
   "metadata": {},
   "outputs": [],
   "source": [
    "d=pd.concat([searchstring,pos_tag],axis=1)"
   ]
  },
  {
   "cell_type": "code",
   "execution_count": 34,
   "metadata": {},
   "outputs": [
    {
     "data": {
      "text/html": [
       "<div>\n",
       "<style scoped>\n",
       "    .dataframe tbody tr th:only-of-type {\n",
       "        vertical-align: middle;\n",
       "    }\n",
       "\n",
       "    .dataframe tbody tr th {\n",
       "        vertical-align: top;\n",
       "    }\n",
       "\n",
       "    .dataframe thead th {\n",
       "        text-align: right;\n",
       "    }\n",
       "</style>\n",
       "<table border=\"1\" class=\"dataframe\">\n",
       "  <thead>\n",
       "    <tr style=\"text-align: right;\">\n",
       "      <th></th>\n",
       "      <th>subject</th>\n",
       "      <th>clausal_subject</th>\n",
       "      <th>verb</th>\n",
       "      <th>indirect_object</th>\n",
       "      <th>direct_object</th>\n",
       "      <th>p_object</th>\n",
       "    </tr>\n",
       "  </thead>\n",
       "  <tbody>\n",
       "    <tr>\n",
       "      <th>0</th>\n",
       "      <td></td>\n",
       "      <td></td>\n",
       "      <td></td>\n",
       "      <td></td>\n",
       "      <td></td>\n",
       "      <td></td>\n",
       "    </tr>\n",
       "    <tr>\n",
       "      <th>1</th>\n",
       "      <td></td>\n",
       "      <td></td>\n",
       "      <td></td>\n",
       "      <td></td>\n",
       "      <td></td>\n",
       "      <td></td>\n",
       "    </tr>\n",
       "    <tr>\n",
       "      <th>2</th>\n",
       "      <td></td>\n",
       "      <td></td>\n",
       "      <td></td>\n",
       "      <td></td>\n",
       "      <td></td>\n",
       "      <td></td>\n",
       "    </tr>\n",
       "    <tr>\n",
       "      <th>3</th>\n",
       "      <td></td>\n",
       "      <td></td>\n",
       "      <td></td>\n",
       "      <td></td>\n",
       "      <td></td>\n",
       "      <td></td>\n",
       "    </tr>\n",
       "    <tr>\n",
       "      <th>4</th>\n",
       "      <td></td>\n",
       "      <td></td>\n",
       "      <td></td>\n",
       "      <td></td>\n",
       "      <td></td>\n",
       "      <td></td>\n",
       "    </tr>\n",
       "    <tr>\n",
       "      <th>5</th>\n",
       "      <td>Apple</td>\n",
       "      <td></td>\n",
       "      <td>buying</td>\n",
       "      <td></td>\n",
       "      <td>startup</td>\n",
       "      <td>billion</td>\n",
       "    </tr>\n",
       "    <tr>\n",
       "      <th>6</th>\n",
       "      <td></td>\n",
       "      <td></td>\n",
       "      <td></td>\n",
       "      <td></td>\n",
       "      <td></td>\n",
       "      <td></td>\n",
       "    </tr>\n",
       "    <tr>\n",
       "      <th>7</th>\n",
       "      <td></td>\n",
       "      <td></td>\n",
       "      <td></td>\n",
       "      <td></td>\n",
       "      <td></td>\n",
       "      <td></td>\n",
       "    </tr>\n",
       "    <tr>\n",
       "      <th>8</th>\n",
       "      <td></td>\n",
       "      <td></td>\n",
       "      <td>stop</td>\n",
       "      <td></td>\n",
       "      <td>Amazon</td>\n",
       "      <td></td>\n",
       "    </tr>\n",
       "  </tbody>\n",
       "</table>\n",
       "</div>"
      ],
      "text/plain": [
       "  subject clausal_subject    verb indirect_object direct_object p_object\n",
       "0                                                                       \n",
       "1                                                                       \n",
       "2                                                                       \n",
       "3                                                                       \n",
       "4                                                                       \n",
       "5   Apple                  buying                       startup  billion\n",
       "6                                                                       \n",
       "7                                                                       \n",
       "8                            stop                        Amazon         "
      ]
     },
     "execution_count": 34,
     "metadata": {},
     "output_type": "execute_result"
    }
   ],
   "source": [
    "d.to_excel(\"A.xlsx\")"
   ]
  }
 ],
 "metadata": {
  "kernelspec": {
   "display_name": "Python 3",
   "language": "python",
   "name": "python3"
  },
  "language_info": {
   "codemirror_mode": {
    "name": "ipython",
    "version": 3
   },
   "file_extension": ".py",
   "mimetype": "text/x-python",
   "name": "python",
   "nbconvert_exporter": "python",
   "pygments_lexer": "ipython3",
   "version": "3.7.1"
  }
 },
 "nbformat": 4,
 "nbformat_minor": 2
}

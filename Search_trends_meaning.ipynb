%%time
import nltk
import numpy as np
import pandas as pd
import spacy
from spacy.gold import GoldParse


#data Shaping

data={
    "_id": {
        "$oid": "60376575ff0f4cc6c8f41adf"
    },
    "Language": "English",
    "Lang_code": "EN",
    "City": "Banglore",
    "Alphabets": {
        "A": ["Amazon", "aaj tak", "Apk Pure", "Aadhar Card","abdul samad"],
        "B": ["Bat man", " Birthday vibes", "Best way to stop Amazon"]
    }
}

#function defenition

def pos(x):
    wordList=nltk.word_tokenize(x)
    pos1=nltk.pos_tag(wordList)
    
#     pos_tagging=[]
#     for i in pos:
#         pos_tagging.append(i)
#     pos_tag=pd.DataFrame(pos_tagging)
    return pos1

pos_tag=[]
search_string=[]
for i in data["Alphabets"].values():
    for j in i:
        pos_tag.append(pos(j))
        search_string.append(j)
        
data_=pd.DataFrame(search_string,np.array(pos_tag).flatten(),columns=['searchstring']).reset_index().rename(columns={'index':'pos'})  
data_=data_[['searchstring','pos']]  
data_['pos']=data_['pos'].apply(lambda x:str(x).replace('(','').replace('[','').replace(')','').replace(']','').replace("'",''))

#function call
entity=[]
word_search=[]
nlp=spacy.load('en_core_web_sm')
for search in data["Alphabets"].values():
    for j in search:
        doc=nlp(j)
  
    for  ent in doc.ents:
            word_search.append(ent.text)
            entity.append(ent.label_)
data2=pd.DataFrame()
data2['search_subset']=word_search
data2['entity']=entity    
pd.set_option('display.max_rows',500)
final=pd.merge(data_,data2,left_on=['searchstring'],right_on=['search_subset'],how='left')
final=pd.concat([final,final['pos'].astype('str').str.split(",",expand=True)],axis=1)
final.drop(columns='pos',inplace=True)
final.fillna('_',inplace=True)
final.columns=['searchstring','search_subset','entity']+['word','pos']*(len(final.columns[3:])//2)
final

#Writing to the excel
                                                                        
     final.to_excel('D:\Ria\Internship\Internshala\Dowell\pseudo_datacheck.xlsx')                                                                   
                                                                        
                                                                        
                                                                        










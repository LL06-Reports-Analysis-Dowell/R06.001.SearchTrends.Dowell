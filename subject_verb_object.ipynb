############################# import of modules/packages
%%time
import nltk
import numpy as np
import pandas as pd # USE OF PANDAS FOR MANUPILATION AND CONSTRUCTION OF DATAFRAME
import spacy
from spacy.gold import GoldParse # USE OF SPACY 
nlp = spacy.load('en_core_web_sm')

### importing of data
%cd "D:\Ria\Internship\Internshala\Dowell"
data=pd.read_excel("SEARCH_STRING_GOOGLE_AUTOCOMPLETE.xlsx")

# function to extract subject ,verb and object
%%time
def subject_verb_object_pos(x):

    doc=nlp(x)
    clausal_subject = ""
    nominal_subject = ""
    indirect_object = ""
    Object          = ""
    preposition_Object=""
    verb=""
    subject=""
    
    for word  in doc:
       
        
        if word.dep_ in ["nsubj","ROOT"]:
            subject=word.text
 
        elif word.dep_== "csubj":
                clausal_subject=word.text
        elif word.dep_  == "iobj":
                indirect_object=word.text
        elif word.dep_  == "dobj":
                Object=word.text
        elif word.dep_ == "pobj":
                preposition_Object=word.text
        elif word.pos_=='VERB':
                verb=word.text
    return {'subject':subject,'clausal_subject':clausal_subject,'verb':verb,'indirect_object':indirect_object,'direct_object':Object,'p_object':preposition_Object}
    
    
####     calling   of a function
    
 %%time
pos_tag=[]
search_string=[]
for i in data["SEARCH STRING "].astype('str'):
        pos_tag.append(subject_verb_object_pos(i))
        search_string.append(i)
        
 ### putting into a dataframe
searchstring=pd.DataFrame(search_string)
pos_tag=pd.DataFrame(pos_tag)
d=pd.concat([searchstring,pos_tag],axis=1)


#####exporting to excel

d.to_excel("A.xlsx")

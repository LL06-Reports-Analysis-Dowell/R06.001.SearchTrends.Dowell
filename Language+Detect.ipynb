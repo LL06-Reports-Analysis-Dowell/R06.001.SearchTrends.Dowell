{
 "cells": [
  {
   "cell_type": "code",
   "execution_count": 2,
   "metadata": {},
   "outputs": [
    {
     "name": "stdout",
     "output_type": "stream",
     "text": [
      "Collecting langdetect\n",
      "  Using cached langdetect-1.0.8-py3-none-any.whl\n",
      "Requirement already satisfied: six in c:\\users\\jacob\\anaconda3\\lib\\site-packages (from langdetect) (1.12.0)\n",
      "Installing collected packages: langdetect\n",
      "Successfully installed langdetect-1.0.8\n"
     ]
    },
    {
     "name": "stderr",
     "output_type": "stream",
     "text": [
      "WARNING: You are using pip version 20.3.3; however, version 21.0.1 is available.\n",
      "You should consider upgrading via the 'C:\\Users\\Jacob\\Anaconda3\\python.exe -m pip install --upgrade pip' command.\n"
     ]
    }
   ],
   "source": [
    "import sys\n",
    "!{sys.executable} -m pip install langdetect"
   ]
  },
  {
   "cell_type": "code",
   "execution_count": 3,
   "metadata": {},
   "outputs": [],
   "source": [
    "from langdetect import detect "
   ]
  },
  {
   "cell_type": "code",
   "execution_count": 4,
   "metadata": {},
   "outputs": [
    {
     "name": "stdout",
     "output_type": "stream",
     "text": [
      "en\n",
      "ru\n",
      "es\n",
      "af\n",
      "hi\n",
      "ja\n"
     ]
    }
   ],
   "source": [
    "print(detect(\"Geeksforgeeks is a computer science portal for geeks\")) \n",
    "print(detect(\"Geeksforgeeks - это компьютерный портал для гиков\")) \n",
    "print(detect(\"Geeksforgeeks es un portal informático para geeks\")) \n",
    "print(detect(\"Geeksforgeeks是面向极客的计算机科学门户\")) \n",
    "print(detect(\"Geeksforgeeks geeks के लिए एक कंप्यूटर विज्ञान पोर्टल है\")) \n",
    "print(detect(\"Geeksforgeeksは、ギーク向けのコンピューターサイエンスポータルです。\")) "
   ]
  },
  {
   "cell_type": "code",
   "execution_count": null,
   "metadata": {},
   "outputs": [],
   "source": []
  }
 ],
 "metadata": {
  "kernelspec": {
   "display_name": "Python 3",
   "language": "python",
   "name": "python3"
  },
  "language_info": {
   "codemirror_mode": {
    "name": "ipython",
    "version": 3
   },
   "file_extension": ".py",
   "mimetype": "text/x-python",
   "name": "python",
   "nbconvert_exporter": "python",
   "pygments_lexer": "ipython3",
   "version": "3.7.4"
  }
 },
 "nbformat": 4,
 "nbformat_minor": 2
}
